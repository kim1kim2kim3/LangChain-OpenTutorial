{
 "cells": [
  {
   "cell_type": "markdown",
   "id": "635d8ebb",
   "metadata": {},
   "source": [
    "# Windows에서 시작하기\n",
    "\n",
    "- 작성자: [Wooseok-Jeong](https://github.com/jeong-wooseok)\n",
    "- 동료 리뷰: [Yun Eun](https://github.com/yuneun92), [MinJi Kang](https://www.linkedin.com/in/minji-kang-995b32230/)\n",
    "- 교정: [Q0211](https://github.com/Q0211)\n",
    "- 이 문서는 [LangChain 오픈 튜토리얼](https://github.com/LangChain-OpenTutorial/LangChain-OpenTutorial)의 일부입니다.\n",
    "\n",
    "[![Open in Colab](https://colab.research.google.com/assets/colab-badge.svg)](https://colab.research.google.com/github/LangChain-OpenTutorial/LangChain-OpenTutorial/blob/main/01-Basic/01-Getting-Started-Windows.ipynb)[![Open in GitHub](https://img.shields.io/badge/Open%20in%20GitHub-181717?style=flat-square&logo=github&logoColor=white)](https://github.com/LangChain-OpenTutorial/LangChain-OpenTutorial/blob/main/01-Basic/01-Getting-Started-Windows.ipynb)\n",
    "## 개요\n",
    "\n",
    "이 튜토리얼은 Windows 환경에서 LangChain 패키지를 설치하는 방법을 설명합니다. 필수 GitHub 저장소를 클론하고, pyenv와 Poetry로 저자와 동일한 패키지를 일괄 설치하며, Visual Studio Code와 Jupyter 확장을 설치하여 손쉽게 개발 환경을 구축할 수 있습니다.\n",
    "\n",
    "### 목차\n",
    "\n",
    "- [개요](#overview)\n",
    "- [git 설치](#install-git)\n",
    "- [pyenv 설치](#install-pyenv)\n",
    "- [Poetry 설치](#install-poetry)\n",
    "- [Visual Studio Code 설치](#install-visual-studio-code)\n",
    "- [Jupyter 확장 설치](#install-jupyter-extension)\n",
    "\n",
    "### 참고 자료\n",
    "- [git 다운로드](https://git-scm.com/download/win)\n",
    "- [Visual Studio Code 다운로드](https://code.visualstudio.com/download)\n",
    "\n",
    "----\n"
   ]
  },
  {
   "cell_type": "markdown",
   "id": "38fe3f6f",
   "metadata": {},
   "source": [
    "## git 설치\n",
    "[git 다운로드](https://git-scm.com/download/win)\n",
    "\n",
    "Windows용 64비트 Git 설치 파일을 다운로드합니다.\n",
    "\n",
    "![git-download](./assets/01-follow-the-installation-video-windows-01.png)\n"
   ]
  },
  {
   "cell_type": "markdown",
   "id": "5189c83b",
   "metadata": {},
   "source": [
    "설치 과정에서 옵션을 확인하고 진행합니다.\n",
    "\n",
    "![](./assets/01-follow-the-installation-video-windows-02.png)"
   ]
  },
  {
   "cell_type": "markdown",
   "id": "a91429c1",
   "metadata": {},
   "source": [
    "나머지 단계는 모두 'Next' 버튼을 눌러 설치를 진행합니다.\n",
    "\n",
    "![](./assets/01-follow-the-installation-video-windows-03.png)\n"
   ]
  },
  {
   "cell_type": "markdown",
   "id": "a49c86df",
   "metadata": {},
   "source": [
    "윈도우 키를 눌러 **PowerShell**을 **관리자 권한**으로 실행합니다.\n",
    "\n",
    "아래 명령을 입력해 출력이 아래 그림과 같은지 확인합니다.\n",
    "```powershell\n",
    "git\n",
    "```\n",
    "\n",
    "![](./assets/01-follow-the-installation-video-windows-04.png)\n"
   ]
  },
  {
   "cell_type": "markdown",
   "id": "459858ca",
   "metadata": {},
   "source": [
    "- PowerShell 정책 적용\n",
    "\n",
    "먼저 **Windows PowerShell**을 **관리자 권한**으로 실행합니다.\n",
    "\n",
    "정책을 적용하기 위해 아래 명령을 입력하세요.\n",
    "```powershell\n",
    "Set-ExecutionPolicy RemoteSigned -Scope CurrentUser -Force\n",
    "```\n",
    "적용이 완료되면 Windows PowerShell을 종료했다가 다시 실행합니다. 이후 단계에서도 Windows PowerShell을 실행할 때는 항상 '관리자 권한으로 실행'을 선택하세요.\n"
   ]
  },
  {
   "cell_type": "markdown",
   "id": "8773e420",
   "metadata": {},
   "source": [
    "## pyenv 설치\n",
    "python을 설치하기 전에 pyenv를 설치합니다. pyenv는 패키지 간 충돌을 방지하기 위해 가상화 환경을 구성합니다.\n",
    "\n",
    "```bash\n",
    "git clone https://github.com/pyenv-win/pyenv-win.git \"$env:USERPROFILE\\\\.pyenv\"\n",
    "```\n"
   ]
  },
  {
   "cell_type": "markdown",
   "id": "bcc00279",
   "metadata": {},
   "source": [
    "- 환경 변수 추가\n",
    "\n",
    "아래 내용을 복사하여 실행합니다.\n",
    "```powershell\n",
    "[System.Environment]::SetEnvironmentVariable('PYENV', $env:USERPROFILE + \"\\\\.pyenv\\\\pyenv-win\\\\\", \"User\")\n",
    "[System.Environment]::SetEnvironmentVariable('PYENV_ROOT', $env:USERPROFILE + \"\\\\.pyenv\\\\pyenv-win\\\\\", \"User\")\n",
    "[System.Environment]::SetEnvironmentVariable('PYENV_HOME', $env:USERPROFILE + \"\\\\.pyenv\\\\pyenv-win\\\\\", \"User\")\n",
    "```\n",
    "\n",
    "아래 내용도 복사하여 실행합니다.\n",
    "```powershell\n",
    "[System.Environment]::SetEnvironmentVariable('PATH', $env:USERPROFILE + \"\\\\.pyenv\\\\pyenv-win\\\\bin;\" + $env:USERPROFILE + \"\\\\.pyenv\\\\pyenv-win\\\\shims;\" + [System.Environment]::GetEnvironmentVariable('PATH', \"User\"), \"User\")\n",
    "```\n",
    "\n",
    "현재 Windows PowerShell을 종료한 뒤 다시 실행합니다.\n",
    "\n",
    "아래 명령으로 정상 동작을 확인합니다.\n",
    "```powershell\n",
    "pyenv\n",
    "```\n",
    "\n",
    "![](./assets/01-follow-the-installation-video-windows-05.png )\n"
   ]
  },
  {
   "cell_type": "markdown",
   "id": "3abfe733",
   "metadata": {},
   "source": [
    "- Python 설치\n",
    "\n",
    "Python 3.11 버전을 설치합니다.\n",
    "```powershell\n",
    "pyenv install 3.11\n",
    "```\n",
    "Python 3.11 버전을 기본 런타임으로 설정합니다.\n",
    "```powershell\n",
    "pyenv global 3.11\n",
    "```\n",
    "Python 버전을 확인합니다.\n",
    "```powershell\n",
    "python --version\n",
    "```\n",
    "3.11.9 버전(또는 3.11.11도 괜찮습니다)이 설치되어 있는지 확인하세요.\n"
   ]
  },
  {
   "cell_type": "markdown",
   "id": "fe99bcaf",
   "metadata": {},
   "source": [
    "## Poetry 설치\n"
   ]
  },
  {
   "cell_type": "markdown",
   "id": "6eef27ed",
   "metadata": {},
   "source": [
    "아래 명령을 실행해 패키지 관리 도구 Poetry를 설치합니다.\n",
    "```bash\n",
    "pip3 install poetry\n",
    "```\n",
    "\n",
    "- [LangChain-OpenTutorial.git 링크](https://github.com/LangChain-OpenTutorial/LangChain-OpenTutorial.git)\n",
    "\n",
    "Documents 폴더로 이동합니다.\n",
    "```powershell\n",
    "cd ~/Documents\n",
    "```\n",
    "\n",
    "아래 명령으로 소스 코드를 받아옵니다.\n",
    "```powershell\n",
    "git clone https://github.com/LangChain-OpenTutorial/LangChain-OpenTutorial.git\n",
    "```\n",
    "\n",
    "아래 명령으로 LangChain-OpenTutorial 디렉토리로 이동합니다.\n",
    "```powershell\n",
    "cd LangChain-OpenTutorial\n",
    "```\n",
    "\n",
    "Python 가상환경을 설정합니다.\n",
    "```powershell\n",
    "poetry shell\n",
    "```\n",
    "Python 패키지를 일괄 업데이트합니다.\n",
    "```powershell\n",
    "poetry update\n",
    "```\n"
   ]
  },
  {
   "cell_type": "markdown",
   "id": "fb9bf1a4",
   "metadata": {},
   "source": [
    "## Visual Studio Code 설치\n"
   ]
  },
  {
   "cell_type": "markdown",
   "id": "efb44c79",
   "metadata": {},
   "source": [
    "Visual Studio Code 다운로드\n",
    "\n",
    "- [Visual Studio Code 다운로드](https://code.visualstudio.com/download)\n",
    "\n",
    "다운로드한 Visual Studio Code를 설치합니다.\n",
    "\n",
    "왼쪽 확장 프로그램 메뉴에서 Jupyter의 'install'을 클릭합니다.\n",
    "\n",
    "![](./assets/01-follow-the-installation-video-windows-06.png)\n"
   ]
  },
  {
   "cell_type": "markdown",
   "id": "83d19633",
   "metadata": {},
   "source": [
    "## Jupyter 확장 설치\n",
    "'python'을 검색해 설치합니다.\n",
    "\n",
    "![](./assets/01-follow-the-installation-video-windows-07.png)\n",
    "\n",
    "'jupyter'를 검색해 설치합니다.\n",
    "\n",
    "![](./assets/01-follow-the-installation-video-windows-08.png)\n",
    "\n",
    "Visual Studio Code를 종료하고 다시 실행합니다.\n",
    "\n",
    "설치가 완료되면 오른쪽 상단의 \"select kernel\" 버튼을 클릭할 수 있습니다.\n",
    "\n",
    "Python 환경을 클릭합니다. 설치한 가상환경이 보이지 않으면 Visual Studio Code를 끄고 다시 실행하세요.\n"
   ]
  }
 ],
 "metadata": {
  "kernelspec": {
   "display_name": "LangChain Tutorial",
   "language": "python",
   "name": "langchain-tutorial"
  },
  "language_info": {
   "codemirror_mode": {
    "name": "ipython",
    "version": 3
   },
   "file_extension": ".py",
   "mimetype": "text/x-python",
   "name": "python",
   "nbconvert_exporter": "python",
   "pygments_lexer": "ipython3",
   "version": "3.11.11"
  }
 },
 "nbformat": 4,
 "nbformat_minor": 5
}