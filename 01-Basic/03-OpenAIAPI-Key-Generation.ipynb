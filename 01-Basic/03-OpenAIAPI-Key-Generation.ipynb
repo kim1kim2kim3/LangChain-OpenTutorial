{
 "cells": [
  {
   "cell_type": "markdown",
   "metadata": {},
   "source": [
    "# OpenAI API 키 생성 및 테스트 안내서\n\n- 저자 : [minji] (https://github.com/r14minji)\n-동료 검토 : [Chang-jun Lee] (https://powersolution.notion.site/), [Wooseok Jeong] (https://github.com/jeong-wooseok)\n- 교정 : [q011] (https://github.com/q0211)\n-이것은 [Langchain Open Tutorial]의 일부입니다.\n\n[!\n[! [열린github] (https://img.shields.io/badge/open%20in%20github-181717?style=flat-square&logo=github&logocolor=white)] (https : //github.com/langchain-opentutorial/langchain-opentutorial/blob/main/01-basic/03-openaiaiapi-key-generation.ipynb)\n\n## 개요\n\n이 안내서는 비용 및 한도를 포함하여 OpenAI API 키를 얻고 사용하는 방법을 설명합니다.\n\n처음에는 OpenAI 플랫폼에서 API 키를 만들고 개발 환경을 설정합니다.\n\n설정 후 API 키를 테스트하여 응용 프로그램에서 올바르게 작동하는지 확인할 수 있습니다.\n\n### 목차\n- [개요] (#개요)\n-[OpenAI API 지불 및 사용 제한 설정] (#설정 -Openai-API-PAYMENT 및 USAGE-LIMITS)\n-[OpenAI API 키 생성] (#OpenAi-Api-Key-Generation)\n- [환경 설정] (#Environment-Setup)\n\n----"
   ]
  },
  {
   "cell_type": "markdown",
   "metadata": {},
   "source": [
    "## OpenAI API 지불 및 사용 제한 설정\n\nOpenAI API 웹 사이트를 방문하십시오\n\n\n- 방문 : https://platform.openai.com/docs/overview\n\n오른쪽 상단에 ** \"가입\"**을 클릭하여 계정을 만들려면 계정을 만듭니다 (이미 계정이있는 경우 ** \"로그인\") **.\n\n! [step1] (./ 자산/02-Openaiaiapikeygeneration-01.png)\n\n로그인 한 후 오른쪽 상단의 ** 설정 **로 이동하여 \"청구\"를 선택하십시오.\n\n! [step2] (./ 자산/02-Openaiaiapikeygeneration-02.png)\n\n왼쪽 \"청구\"메뉴에서 \"지불 방법\"을 클릭하여 신용 카드를 등록하십시오.\n\n! [STEP3] (./ 자산/02-OpenaiaiaPikeygeneration-03.png)\n\n신용 카드가 등록되면 아래와 같이 지불 방법 목록에 나타납니다.\n\n! [step4] (./ 자산/02-Openaiaiapikeygeneration-04.png)\n\n\"신용 잔액 추가\"버튼을 클릭하여 사용하려는 USD의 금액을 입력하십시오.\n\n\n! [Step5] (./ 자산/02-OpenaiaiaPikeygeneration-05.png)\n\n\n\n```$ 5```U (최소 $ 5 이상을 지불해야 함)부터 시작하여 자금을 추가 할 수 있습니다.\n\n금액을 입력 한 후 \"계속\"을 클릭하여 지불을 진행하십시오.\n\n! [Step6] (./ 자산/02-Openaiaiapikeygeneration-06.png)\n\n왼쪽의 ** \"제한\"** 탭에서 월간 사용 제한을 설정할 수 있습니다.\n\n- ** \"월 예산 설정\"** : 월별 지출 한도를 설정합니다.이 금액에 도달하면 청구 중지가 중지되고 API는 작동하지 않습니다.\n- ** \"이메일 알림 임계 값 설정\"** : 이메일 알림을받는 금액을 지정할 수 있습니다.사용 이이 금액에 도달하면 이메일 알림이 표시됩니다.\n\n! [step7] (./ 자산/02-Openaiaiapikeygeneration-07.png)"
   ]
  },
  {
   "cell_type": "markdown",
   "metadata": {},
   "source": [
    "## OpenAI API 키 생성\n\n오른쪽 상단 코너에서 프로필 사진을 클릭 한 다음 ** \"프로필\"을 선택하십시오. **\n\n! [step7] (./ 자산/02-Openaiaiapikeygeneration-08.png)\n\nAPI 키 관리 메뉴에 액세스하십시오\n\n- 방문 : https://platform.openai.com/api-keys\n\n\n** \"새 비밀 키 만들기\"를 클릭하십시오 **\n\n! [step8] (./ 자산/02-Openaiaiapikeygeneration-09.png)\n\n이름을 입력하고 프로젝트를 선택하십시오 (프로젝트를 만들지 않은 경우 기본 프로젝트를 선택하십시오).\n\n! [step9] (./ 자산/02-Openaiaiapikeygeneration-10.png)\n\n오른쪽의 ** \"복사\"** 버튼을 클릭하여 키를 복사하십시오.\n\n** 중요한 경고 !!! **\n\n키가 유출되면 다른 사람들은 API 키를 사용하여 GPT 서비스에 액세스 할 수 있으며 요금은 ** 계정 **에 청구됩니다.\n** 키를 공유하지 마십시오 ** **는 다른 사람들과 보관하십시오!(비밀번호로 생각하십시오)\n\n! [step10] (./ 자산/02-Openaiaiapikeygeneration-11.png)"
   ]
  },
  {
   "cell_type": "markdown",
   "metadata": {},
   "source": [
    "## 환경 설정\n\n```.env``` 파일을 설정합니다\n\n1. 프로젝트의 루트 디렉토리에```.env``` 파일을 만듭니다.\n2.```.env``` 파일에서````````````````.env '' '를 입력 한 다음 ctrl + s (또는 mac의 명령 + s)를 눌러 파일을 저장하고 닫습니다.\n\n! [STEP12] (./ 자산/02-OpenaiaiaPikeygeneration-12.png)\n\n.gitignore 파일 설정\n1. 프로젝트의 루트 디렉토리에``.gitignore '' '파일을 만듭니다.\n2.``.env``````````ur````.\n\n! [step13] (./ 자산/02-OpenaiaiaPikeygeneration-13.png)"
   ]
  },
  {
   "cell_type": "code",
   "execution_count": null,
   "metadata": {
    "vscode": {
     "languageId": "plaintext"
    }
   },
   "outputs": [],
   "source": [
    "#Langchain을 업데이트하십시오\n",
    "!pip install langchain-opentutorial"
   ]
  },
  {
   "cell_type": "code",
   "execution_count": null,
   "metadata": {
    "vscode": {
     "languageId": "plaintext"
    }
   },
   "outputs": [],
   "source": [
    "#API 키를 환경 변수로 관리하는 구성 파일\n",
    "#설치 : PIP 설치 Python-Dotenv\n",
    "from dotenv import load_dotenv\n",
    "\n",
    "#API 키 정보를로드하십시오\n",
    "load_dotenv()"
   ]
  },
  {
   "cell_type": "code",
   "execution_count": null,
   "metadata": {
    "vscode": {
     "languageId": "plaintext"
    }
   },
   "outputs": [],
   "source": [
    "True"
   ]
  },
  {
   "cell_type": "markdown",
   "metadata": {},
   "source": [
    "API 키가 올바르게 구성되어 있는지 확인해 봅시다."
   ]
  },
  {
   "cell_type": "code",
   "execution_count": null,
   "metadata": {
    "vscode": {
     "languageId": "plaintext"
    }
   },
   "outputs": [],
   "source": [
    "import os\n",
    "print(f\"[API KEY]\\n{os.environ['OPENAI_API_KEY']}\")"
   ]
  }
 ],
 "metadata": {
  "language_info": {
   "name": "python"
  }
 },
 "nbformat": 4,
 "nbformat_minor": 2
}