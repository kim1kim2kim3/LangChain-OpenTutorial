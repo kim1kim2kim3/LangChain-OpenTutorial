{
 "cells": [
  {
   "cell_type": "markdown",
   "id": "635d8ebb",
   "metadata": {},
   "source": [
    "# Mac에서 시작하기\n\n- 저자 : [Jeongho Shin] (https://github.com/thepurplecollar)\n- 피어 리뷰 : [Jeonggi Park] (https://www.linkedin.com/in/jeonggipark/), [Wooseok Jeong] (https://github.com/jeong-wooseok)\n- 교정 : [q011] (https://github.com/q0211)\n-이것은 [Langchain Open Tutorial]의 일부입니다.\n\n[!안에github] (https://img.shields.io/badge/open%20in%20github-181717?style=flat-square&logo=github&logocolor=white)] (https : //github.com/langchain-opentutorial/langchain-opentutorial/blob/main/01-basic/02-getting-started-mac.ipynb)\n## 개요\n\n이 안내서는 MAC에서 Langchain을 개발하기 위해 조정 된 포괄적 인 설정 프로세스를 제공합니다.Langchain은 LLMS (Lange Language Models)로 구동되는 응용 프로그램을 구축하기위한 프레임 워크이며,이 안내서는 환경이 완벽하게 통합 및 개발을 위해 완전히 최적화되도록합니다.\n\n# 목차\n\n- [개요] (#개요)\n- [오프닝 터미널] (#오프닝 터미널)\n- [홈 브루 설치] (#homebrew 설치)\n-[Xcode 설치 확인] (#xcode Installation 확인)\n-[연습 코드 다운로드] (#다운로드 실습 코드)\n-[파이썬 및 환경 구성] (#Python and-Environment-Configuration)\n-[개발 도구 설정] (#Development-Tools-Setup)\n\n----"
   ]
  },
  {
   "cell_type": "markdown",
   "id": "0a630f46",
   "metadata": {},
   "source": [
    "## 오프닝 터미널\n- 명령 + 공간 **을 누르면 스포트라이트 검색을 열어줍니다.\n\n- ** 터미널 **을 검색하고 Enter를 눌러 터미널을 엽니 다."
   ]
  },
  {
   "cell_type": "markdown",
   "id": "edd88e38",
   "metadata": {},
   "source": [
    "## 홈 브루 설치\n\n### 홈브류 설치 명령 실행\n- 홈브류를 설치하려면 터미널에서 다음 명령을 실행하십시오.\n```Bash\n/bin/bash -c \"$ (curl -fssl https://raw.githubusercontent.com/homebrew/install/head/install.sh)\"\n```\n\n- 메시지가 표시되면 계정 비밀번호를 입력하십시오.\n! [passwordz] (자산/01-follow-the-installation-video_mac-01.png)\n\n- 설치를 진행하려면 Enter를 누르십시오."
   ]
  },
  {
   "cell_type": "markdown",
   "id": "913b58a6",
   "metadata": {},
   "source": [
    "### 홈브류 환경 구성\n\n- 사용자 이름을 확인하려면 다음 명령을 실행하십시오.\n```Bash\n\n우와미\n```\n! [Jupyter Extension] (자산/01-Follow-the-Installation-Video_mac-02.png)\n\n- 홈브류의 설치 경로를 확인하십시오.\n```Bash\n\n어떤 양조\n```\n\n- 홈브류의 설치 경로 확인 :\n- ** 사례 1 ** : 출력이 **/opt/homebrew/bin/brew ** 인 경우 다음 명령을 사용하여 환경을 구성하십시오.\n```Bash\necho 'eval \"$ (/opt/homebrew/bin/brew shellenv)\"'>> /users/<your-username>/.zprofile\n```\n\n- ** 사례 2 ** : 출력이 **/usr/local/bin/brew ** 인 경우 다음 명령을 사용하십시오.\n```Bash\necho 'eval \"$ (/usr/local/bin/brew shellenv)\"'>> /users/<your-username>/.zprofile\n```"
   ]
  },
  {
   "cell_type": "markdown",
   "id": "05b6427c",
   "metadata": {},
   "source": [
    "## Xcode 설치 확인\n\nXcode 명령 줄 도구가 설치되어 있는지 확인하려면 터미널에서 다음 명령을 실행하십시오.\n\n```Bash\nxcode-select-설치\n```"
   ]
  },
  {
   "cell_type": "markdown",
   "id": "070b418b",
   "metadata": {},
   "source": [
    "## 실습 코드 다운로드\n\n[참조] 실습 코드 저장소 : [Langchain Practice Code] (https://github.com/langchain-opentutorial/langchain-opentutorial)\n\n\n### git 설치 확인\n\n- 터미널에서 다음 명령을 실행하여 GIT가 설치되어 있는지 확인하십시오.\n```Bash\ngit -전환\n```\n\n- 명령이 GIT 버전을 출력하는 경우 이미 GIT가 설치되어 있으며 추가 작업이 필요하지 않습니다.\n\n- GIT가 설치되지 않은 경우 Homebrew를 사용하여 설치할 수 있습니다.\n```Bash\n양조 설치 git\n```\n\n- 설치 후 GIT를 다시 확인하십시오.\n```Bash\ngit -전환\n```"
   ]
  },
  {
   "cell_type": "markdown",
   "id": "3c41318e",
   "metadata": {},
   "source": [
    "### git으로 연습 코드 다운로드\n- ** 문서 ** 폴더 (또는 연습 코드를 다운로드 할 다른 폴더)로 이동하십시오.다음 명령을 사용하십시오.\n```Bash\nCD 문서\n```\n- 다른 디렉토리를 사용하려면 문서를 원하는 경로로 바꾸십시오.\n\n- ** git ** 명령을 사용하여 리포지토리에서 연습 코드를 다운로드하십시오.터미널에서 다음 명령을 실행하십시오.\n```Bash\ngit 클론 https://github.com/langchain-opentutorial/langchain-opentutorial.git\n```\n! [] (자산/01-Follow-the-Installation-Video_mac-03.png)\n\n- 리포지토리는 선택한 디렉토리 내에서 Langchain-Opentutorial이라는 폴더로 클로닝됩니다."
   ]
  },
  {
   "cell_type": "markdown",
   "id": "b9df2082",
   "metadata": {},
   "source": [
    "## pyenv 설치\n\n#### 참조\n자세한 설명서는 [pyenv github page] (https://github.com/pyenv/pyenv?tab=readme-ov-file#understanding-python-version-selection)를 참조하십시오.\n\n---\n\n#### pyenv를 설치하는 단계\n\n1. 홈 브루를 업데이트하고 다음 명령을 사용하여``Pyenv '' '를 설치하십시오.\n```Bash\n양조 업데이트\nBrew 설치 Pyenv\n```\n\n2. ~/.zshrc 파일에 다음 줄을 추가하십시오.명령을 터미널에 복사하여 붙여 넣습니다.\n```Bash\necho 'Export pyenv_root = \"$ home/.pyenv\"'>> ~/.zshrc\necho '[[-d $ pyenv_root/bin]] && 내보내기 경로 = \"$ pyenv_root/bin : $ path\"' '>> ~/.zshrc\necho 'eval \"$ (pyenv init-)\"'>> ~/.zshrc\n```\n\n3. 권한 오류가 발생하면이 명령을 실행하여 해결하십시오.\n```Bash\nSudo chown $ user ~/.zshrc\necho 'Export pyenv_root = \"$ home/.pyenv\"'>> ~/.zshrc\necho '[[-d $ pyenv_root/bin]] && 내보내기 경로 = \"$ pyenv_root/bin : $ path\"' '>> ~/.zshrc\necho 'eval \"$ (pyenv init-)\"'>> ~/.zshrc\n```\n\n4. 터미널 쉘을 다시 시작하여 변경 사항을 적용하십시오.\n```Bash\nexec \"$ shell\"\n```"
   ]
  },
  {
   "cell_type": "markdown",
   "id": "25f630fc",
   "metadata": {},
   "source": [
    "## 파이썬 설치\n\n-Python 3.11을 설치하려면``Pyenv ''를 사용하십시오.\n```Bash\nPyenv 설치 3.11\n```\n\n- Python 3.11을 글로벌 Python 버전으로 설정하십시오.\n```Bash\nPyenv Global 3.11\n```\n\n- 변경 사항이 적용되도록 쉘을 다시 시작하십시오.\n```Bash\nexec zsh\n```\n\n- 설치된 Python 버전 확인 :\n```Bash\n파이썬 -버전\n```\n\n- 출력에 3.11이 표시되는지 확인하십시오."
   ]
  },
  {
   "cell_type": "markdown",
   "id": "8ad5c336",
   "metadata": {},
   "source": [
    "##시 설치\n\n#### 참조\n자세한 문서는 [시 공식 문서] (https://python-poetry.org/docs/#installing-with-le-Official-installer)를 참조하십시오.\n\n---\n\n####시를 설치하고 구성하는 단계\n\n-````pip3````를 사용하여시를 설치하십시오.\n```Bash\nPIP3시를 설치하십시오\n```\n\n-시를 사용하여 파이썬 가상 환경을 설정하십시오.\n```Bash\n시 쉘\n```\n\n- 프로젝트의 모든 파이썬 종속성 업데이트 :\n```Bash\n시 업데이트\n```"
   ]
  },
  {
   "cell_type": "markdown",
   "id": "d539f569",
   "metadata": {},
   "source": [
    "## 비주얼 스튜디오 코드 설치\n\n- ** Visual Studio 코드 다운로드 ** :\n- [Visual Studio Code 다운로드 페이지] (https://code.visualstudio.com/download)를 방문하십시오.\n- 운영 체제의 설치 프로그램을 다운로드하십시오.\n\n- ** Visual Studio Code 설치 ** :\n- 시스템의 설치 지침을 따르십시오.\n- 응용 프로그램을 ** 응용 프로그램 ** 폴더로 돌립니다.\n\n- ** 확장 설치 ** :\n- 시각적 스튜디오 코드를 엽니 다.\n- 왼쪽 사이드 바에서 ** Extensions ** 아이콘을 클릭하십시오.\n! [Extensions Icon] (자산/01-Follow-the-Installation-Video_mac-04.png)\n\n- Extensions Marketplace에서 ** \"Python\"**을 검색하고 설치하십시오.\n! [Python Extension] (자산/01-Follow-the-Installation-Video_mac-05.png)\n\n- Extensions Marketplace에서 ** \"Jupyter\"**를 검색하고 설치하십시오.\n! [Jupyter Extension] (자산/01-Follow-the-Installation-Video_mac-06.png)\n\n- ** 비주얼 스튜디오 코드 재시작 ** :\n- 확장자를 설치 한 후 비주얼 스튜디오 코드를 다시 시작하여 변경 사항을 적용하십시오.\n\n- ** 파이썬 환경 선택 ** :\n- 비주얼 스튜디오 코드의 오른쪽 상단 코너에서 ** \"커널 선택\"**를 클릭하십시오.\n- 앞서 설정 한 파이썬 가상 환경을 선택하십시오.\n\n- ** 참고 ** : 목록에 환경이 나타나지 않으면 Visual Studio 코드를 다시 시작하십시오.\n\n---\n\n이제 Visual Studio Code는 Python 및 Jupyter 지원으로 완전히 설정되어 개발 준비가되었습니다."
   ]
  },
  {
   "cell_type": "markdown",
   "id": "18d43df5",
   "metadata": {},
   "source": []
  }
 ],
 "metadata": {
  "kernelspec": {
   "display_name": "langchain-opentutorial-i-KKkGhc-py3.11",
   "language": "python",
   "name": "python3"
  },
  "language_info": {
   "codemirror_mode": {
    "name": "ipython",
    "version": 3
   },
   "file_extension": ".py",
   "mimetype": "text/x-python",
   "name": "python",
   "nbconvert_exporter": "python",
   "pygments_lexer": "ipython3",
   "version": "3.11.11"
  }
 },
 "nbformat": 4,
 "nbformat_minor": 5
}