{
 "cells": [
  {
   "cell_type": "markdown",
   "metadata": {},
   "source": [
    "# Langsmith 추적 설정\n\n- 저자 : [Jeonggi Park] (https://github.com/jeongkpa)\n-동료 검토 : [Minji Kang] (https://www.linkedin.com/in/minji-kang-995b3230/), [Wooseok Jeong] (https://github.com/jeong-wooseok)\n- 교정 : [q011] (https://github.com/q0211)\n-이것은 [Langchain Open Tutorial]의 일부입니다.\n\n[! [열린Colab] (https://colab.research.google.com/assets/colab-badge.svg)] (https://colab.research.github.com/github/langchain-opentutourilial/langchain-opentutorial/blob/main/01-basic/04-langsmithith-tacgithub] (https://img.shields.io/badge/open%20in%20github-181717?style=flat-square&logo=github&logocolor=white)] (https : //github.com/langchain-opentutorial/langchain-opentutorial/blob/main/01-basic/04-langsmith-tracking-setup.ipynb)\n## 개요\n\n이 튜토리얼은 LLM 응용 프로그램을 개발, 모니터링 및 테스트하기위한 강력한 플랫폼 인``Langsmith '' *를 설정하고 사용하는 방법을 다룹니다.\n``Langsmith ''는 LLM 응용 프로그램을 이해하고 최적화하는 데 필수적인 포괄적 인 추적 기능을 제공합니다.\n\n``Langsmith ''추적은 모니터링에 도움이됩니다.\n\n- 토큰 사용 및 관련 비용\n- 실행 시간 및 성능 메트릭\n- 오류율 및 예기치 않은 동작\n- 에이전트 상호 작용 및 체인 작업\n\n이 튜토리얼에서는``Langsmith``` 추적을 설정하고이를``Langchain ''응용 프로그램과 통합하는 과정을 진행합니다.\n\n### 목차\n\n- [개요] (#개요)\n-[Langsmith Trace 설정] (#랑 스미스 트레이스 설정)\n-[Langsmith 추적 사용] (#Langsmith 추적 사용)\n-[Jupyter 노트북 또는 코드에서 추적 활성화] (#Jupyter-Notebook-또는 Code enable 트래킹)\n\n### 참조\n\n- [OpenAi API 가격] (https://openai.com/api/pricing/)\n-[토큰 사용 안내서] (https://help.openai.com/en/articles/4936856-what-are-tokens-and-count-them)\n- [langchain python api 참조] (https://python.langchain.com/api_reference/community/callbacks/langchain_community.callbacks.manager.get_openai_callback.html)\n---"
   ]
  },
  {
   "cell_type": "markdown",
   "metadata": {},
   "source": [
    "## langsmith 흔적 설정\n\n``Langsmith ''는 LLM 응용 프로그램을 개발, 모니터링 및 테스트하기위한 플랫폼입니다.\n프로젝트를 시작하거나``Langchain ''`````Langsmith ''는 설정 및 실행을위한 필수품입니다."
   ]
  },
  {
   "cell_type": "markdown",
   "metadata": {},
   "source": [
    "### 프로젝트 수준 추적\n프로젝트 수준에서 실행 카운트, 오류율, 토큰 사용 및 청구 정보를 확인할 수 있습니다.\n\n! [프로젝트 수준 추적] (./ 자산/03-langsmith-tracking-setup-01.png)\n\n프로젝트를 클릭하면 실행 된 실행이 모두 나타납니다.\n\n! [프로젝트 수준 추적 사막] (./ 자산/03-langsmith-tracking-setup-02.png)"
   ]
  },
  {
   "cell_type": "markdown",
   "metadata": {},
   "source": [
    "### 단일 실행을위한 세부 단계별 추적\n\n! [자세한 단계별 추적] (./ 자산/03-langsmith-tracking-setup-03.png)\n\n\n단일 실행 후 검색된 문서의 검색 결과뿐만 아니라 GPT의 입력 및 출력 컨텐츠에 대한 자세한 로그를 기록합니다.\n따라서 검색 된 콘텐츠를 검토 한 후 검색 알고리즘을 변경하거나 프롬프트를 수정할지 여부를 결정하는 데 도움이됩니다.\n\n\n또한 맨 위에는 단일 실행 (약 30 초) 및 사용 된 토큰 (5,104)에 걸리는 시간을 보여 주며, 토큰 위로 마우스를 가리면 청구 금액이 표시됩니다."
   ]
  },
  {
   "cell_type": "markdown",
   "metadata": {},
   "source": [
    "Langsmith 추적 사용 ##\n\n흔적을 사용하는 것은 매우 간단합니다."
   ]
  },
  {
   "cell_type": "markdown",
   "metadata": {},
   "source": [
    "### Langsmith API 키를 얻으십시오\n\n\n1. https://smith.langchain.com/으로 이동하여 가입하십시오.\n2. 가입 후 이메일을 확인해야합니다.\n3. 왼쪽 톱니 (설정) - 센터 \"개인\" - \"API 키 만들기\"를 클릭하여 API 키를 얻으려면 3.\n\n! [Get-Api-Key] (./ 자산/03-Langsmith-Tracking-setup-04.png)"
   ]
  },
  {
   "cell_type": "markdown",
   "metadata": {},
   "source": [
    "세트 환경 변수는```.env``` 파일에 있습니다.\n\n```.env_sample````````uurtents의 내용을 복사하고 설정 한 키를 사용하여```.env```````````````산적으로로드하십시오."
   ]
  },
  {
   "cell_type": "code",
   "execution_count": null,
   "metadata": {},
   "outputs": [
    {
     "data": {
      "text/plain": [
       "True"
      ]
     },
     "metadata": {},
     "output_type": "display_data"
    }
   ],
   "source": [
    "from dotenv import load_dotenv\n",
    "\n",
    "load_dotenv(override=True)"
   ]
  },
  {
   "cell_type": "markdown",
   "metadata": {},
   "source": [
    "설명에서 이해가되는 설명을 입력하고 API 만들기 키 버튼을 클릭하십시오.\n\n! [Create-Api-Key] (./ 자산/03-langsmith-tracking-setup-05.png\n))"
   ]
  },
  {
   "cell_type": "markdown",
   "metadata": {},
   "source": [
    "생성 된 키를 복사하고 다음 단계로 진행하십시오.\n\n(주의!) 누출되지 않도록 생성 된 키를 안전한 곳에 복사하십시오.\n\n! [Copy-Api-Key] (./ 자산/03-langsmith-tracking-setup-06.png)"
   ]
  },
  {
   "cell_type": "markdown",
   "metadata": {},
   "source": [
    "### Langsmith 키 설정```.env```````는\n\n\n먼저 Langsmith에서받은 키와 .env 파일에 프로젝트 정보를 입력하십시오.\n\n-````langchain_tracing_v2`````````u적형으로 설정하여 \"true\"로 설정하여 추적을 시작한다.\n-``langchain_endpoint '«: https://api.smith.langchain.com (이 값을 수정하지 마십시오).\n-``langchain_api_key '': 이전 단계에서받은 키를 입력하십시오.\n-``langchain_project`````````u적 그룹에 따라 모든 실행을 그룹화하고 추적 할 프로젝트 이름을 지정하십시오.\n\n! [Seting-Api-Key] (./ 자산/03-langsmith-tracking-setup-07.png)"
   ]
  },
  {
   "cell_type": "markdown",
   "metadata": {},
   "source": [
    "## Jupyter 노트북 또는 코드에서 추적을 활성화합니다\n\n추적을 활성화하는 것은 매우 간단합니다.환경 변수를 설정하기 만하면됩니다.\n\n```.env_sample '의 내용을 복사하고 설정 한 키를 사용하여```.env``````````````산선 내용을 복사하십시오."
   ]
  },
  {
   "cell_type": "code",
   "execution_count": 3,
   "metadata": {},
   "outputs": [],
   "source": [
    "%%capture --no-stderr\n",
    "%pip install python-dotenv"
   ]
  },
  {
   "cell_type": "code",
   "execution_count": 1,
   "metadata": {},
   "outputs": [
    {
     "data": {
      "text/plain": [
       "True"
      ]
     },
     "execution_count": 1,
     "metadata": {},
     "output_type": "execute_result"
    }
   ],
   "source": [
    "from dotenv import load_dotenv\n",
    "\n",
    "load_dotenv(override=True)"
   ]
  },
  {
   "cell_type": "markdown",
   "metadata": {},
   "source": [
    "트레이스가 활성화되고 API 키와 프로젝트 이름이 올바르게 설정된 한 추적이 올바르게 작동합니다.\n\n그러나 프로젝트 이름을 변경하거나 추적을 변경하려면 아래 코드를 사용하여 수행 할 수 있습니다."
   ]
  },
  {
   "cell_type": "code",
   "execution_count": 2,
   "metadata": {},
   "outputs": [],
   "source": [
    "import os\n",
    "\n",
    "os.environ[\"LANGCHAIN_TRACING_V2\"] = \"true\"\n",
    "os.environ[\"LANGCHAIN_ENDPOINT\"] = \"https://api.smith.langchain.com\"\n",
    "os.environ[\"LANGCHAIN_PROJECT\"] = \"<LangChain Project Name>\"\n",
    "os.environ[\"LANGCHAIN_API_KEY\"] = \"<LangChain API KEY>\""
   ]
  }
 ],
 "metadata": {
  "kernelspec": {
   "display_name": "langchain-opentutorial-cyV7o7ra-py3.11",
   "language": "python",
   "name": "python3"
  },
  "language_info": {
   "codemirror_mode": {
    "name": "ipython",
    "version": 3
   },
   "file_extension": ".py",
   "mimetype": "text/x-python",
   "name": "python",
   "nbconvert_exporter": "python",
   "pygments_lexer": "ipython3",
   "version": "3.11.9"
  }
 },
 "nbformat": 4,
 "nbformat_minor": 2
}