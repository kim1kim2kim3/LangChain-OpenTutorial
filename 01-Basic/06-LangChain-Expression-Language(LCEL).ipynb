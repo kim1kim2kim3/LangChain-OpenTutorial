{
 "cells": [
  {
   "cell_type": "markdown",
   "metadata": {},
   "source": [
    "# 기본 예 : 프롬프트+모델+outputParser\n\n- 저자 : [Changjun Lee] (https://www.linkedin.com/in/cjleeno1/)\n-피어 리뷰 : [Erika Park] (https://www.linkedin.com/in/yeonseo-park-094193198/), [Wooseok Jeong] (https://github.com/jeong-wooseok)\n- 교정 : [q011] (https://github.com/q0211)\n-이것은 [Langchain Open Tutorial]의 일부입니다.\n\n[! [열린colab] (https://colab.research.google.com/assets/colab-badge.svg)] (https://colab.research.gogle.com/github/langchain-opentutorial/langchain-opentutorial/blob/main/01-basic/06-langchain-lexpression gangugenbain-langchage (legneplygeanguge).\n[! [열린github] (https://img.shields.io/badge/open%20in%20github-181717?style=flat-square&logo=github&logocolor=white)] (https : // github.com/langchain-opentutorial/langchain-opentutorial/blob/main/01-basic/06-langchain-expression-language(lcel).ipynb)\n\n\n## 개요\n\n가장 기본적이고 일반적으로 사용되는 사례는 프롬프트 템플릿을 모델과 연결하는 것입니다.이것이 어떻게 작동하는지 설명하기 위해 여러 국가의 수도를 요구하는 체인을 만들어 봅시다.\n\n\n### 목차\n\n- [개요] (#개요)\n- [환경 설정] (#Environment-Setup)\n-[프롬프트 템플릿 사용] (#홍보 템플릿 사용)\n- [체인 생성] (#체인 제작)\n\n### 참조\n\n- [langchain chatopenai api 참조] (https://python.langchain.com/api_reference/openai/chat_models/langchain_openai.chat_models.base.html)\n- [Langchain Core 출력 파서] (https://python.langchain.com/api_reference/core/output_parsers/langchain_core.output_parsers.list.commaseParatedListOutputparser.html#\n- [Python List Tutorial] (https://docs.python.org/3.13/tutorial/datrastructures.html)\n---"
   ]
  },
  {
   "cell_type": "markdown",
   "metadata": {},
   "source": [
    "## 환경 설정\n\n환경을 설정하십시오.자세한 내용은 [환경 설정] (https://wikidocs.net/257836)을 참조하십시오.\n\n**[메모]**\n-``Langchain-Opentutorial '' '는 사용하기 쉬운 환경 설정 세트, 유용한 기능 및 튜토리얼을위한 유틸리티를 제공하는 패키지입니다.\n-자세한 내용은 [``````langchain-opentutorial``] (https://github.com/langchain-opentutorial/langchain-opentutorial-pypi)를 확인할 수 있습니다."
   ]
  },
  {
   "cell_type": "code",
   "execution_count": 1,
   "metadata": {},
   "outputs": [],
   "source": [
    "%%capture --no-stderr\n",
    "%pip install langchain-opentutorial"
   ]
  },
  {
   "cell_type": "code",
   "execution_count": 2,
   "metadata": {},
   "outputs": [],
   "source": [
    "#필요한 패키지를 설치하십시오\n",
    "from langchain_opentutorial import package\n",
    "\n",
    "package.install(\n",
    "    [\n",
    "        \"langsmith\",\n",
    "        \"langchain\",\n",
    "        \"langchain_openai\",\n",
    "        \"langchain_community\",\n",
    "    ],\n",
    "    verbose=False,\n",
    "    upgrade=False,\n",
    ")"
   ]
  },
  {
   "cell_type": "code",
   "execution_count": 3,
   "metadata": {},
   "outputs": [
    {
     "name": "stdout",
     "output_type": "stream",
     "text": [
      "Environment variables have been set successfully.\n"
     ]
    }
   ],
   "source": [
    "#환경 변수를 설정합니다\n",
    "from langchain_opentutorial import set_env\n",
    "\n",
    "set_env(\n",
    "    {\n",
    "        \"OPENAI_API_KEY\": \"\",\n",
    "        \"LANGCHAIN_API_KEY\": \"\",\n",
    "        \"LANGCHAIN_TRACING_V2\": \"true\",\n",
    "        \"LANGCHAIN_ENDPOINT\": \"https://api.smith.langchain.com\",\n",
    "        \"LANGCHAIN_PROJECT\": \"\",\n",
    "    }\n",
    ")"
   ]
  },
  {
   "cell_type": "markdown",
   "metadata": {},
   "source": [
    "---\n````.env '' '``````.env' ''```````````. \"\n\n[참고] 이전 단계에서 이미````openai_api_key '' '를 설정 한 경우에는 필요하지 않습니다."
   ]
  },
  {
   "cell_type": "code",
   "execution_count": 4,
   "metadata": {},
   "outputs": [
    {
     "data": {
      "text/plain": [
       "True"
      ]
     },
     "execution_count": 4,
     "metadata": {},
     "output_type": "execute_result"
    }
   ],
   "source": [
    "#환경 변수로 API 키를 관리하기위한 구성 파일\n",
    "from dotenv import load_dotenv\n",
    "\n",
    "#API 키 정보를로드하십시오\n",
    "load_dotenv(override=True)"
   ]
  },
  {
   "cell_type": "code",
   "execution_count": 5,
   "metadata": {},
   "outputs": [
    {
     "data": {
      "text/plain": [
       "True"
      ]
     },
     "execution_count": 5,
     "metadata": {},
     "output_type": "execute_result"
    }
   ],
   "source": [
    "#Langsmith 추적 설정 : https://smith.langchain.com\n",
    "from langsmith import utils\n",
    "\n",
    "utils.tracing_is_enabled()"
   ]
  },
  {
   "cell_type": "markdown",
   "metadata": {},
   "source": [
    "## 프롬프트 템플릿 사용\n\n``PromptTemplate ''\n\n- 프롬프트 템플릿은 사용자의 입력 변수를 통합하여 완전한 프롬프트 문자열을 만드는 데 사용됩니다.\n- 용법\n-```템플릿 ''`: 템플릿 문자열은 Curly Braces '{}'가 변수를 나타내는 데 사용되는 사전 정의 된 형식입니다.\n\n-````input_variables ''«: 곱슬 괄호 안에 삽입 될 변수의 이름은 목록으로 정의됩니다.\n\n``input_variables ''\n\n-``input_variables '' '``````````````````````````````PromptTemplate ()는`````' '에 사용 된 변수의 이름을 정의하는 목록입니다."
   ]
  },
  {
   "cell_type": "code",
   "execution_count": 6,
   "metadata": {},
   "outputs": [],
   "source": [
    "from langchain_core.prompts import PromptTemplate"
   ]
  },
  {
   "cell_type": "markdown",
   "metadata": {},
   "source": [
    "``from_template ()````````` ''객체를 작성하는 데 사용됩니다."
   ]
  },
  {
   "cell_type": "code",
   "execution_count": 7,
   "metadata": {},
   "outputs": [
    {
     "data": {
      "text/plain": [
       "PromptTemplate(input_variables=['country'], input_types={}, partial_variables={}, template='What is the capital of {country}?')"
      ]
     },
     "execution_count": 7,
     "metadata": {},
     "output_type": "execute_result"
    }
   ],
   "source": [
    "#템플릿을 정의하십시오\n",
    "template = \"What is the capital of {country}?\"\n",
    "\n",
    "#`from_template '메소드를 사용하여`rempttemplate'객체를 만듭니다.\n",
    "prompt_template = PromptTemplate.from_template(template)\n",
    "prompt_template"
   ]
  },
  {
   "cell_type": "code",
   "execution_count": 8,
   "metadata": {},
   "outputs": [
    {
     "data": {
      "text/plain": [
       "'What is the capital of Korea?'"
      ]
     },
     "execution_count": 8,
     "metadata": {},
     "output_type": "execute_result"
    }
   ],
   "source": [
    "#프롬프트를 생성하십시오.\n",
    "prompt = prompt_template.format(country=\"Korea\")\n",
    "prompt"
   ]
  },
  {
   "cell_type": "code",
   "execution_count": 9,
   "metadata": {},
   "outputs": [
    {
     "data": {
      "text/plain": [
       "'What is the capital of USA?'"
      ]
     },
     "execution_count": 9,
     "metadata": {},
     "output_type": "execute_result"
    }
   ],
   "source": [
    "#프롬프트를 생성하십시오.\n",
    "prompt = prompt_template.format(country=\"USA\")\n",
    "prompt"
   ]
  },
  {
   "cell_type": "code",
   "execution_count": 10,
   "metadata": {},
   "outputs": [],
   "source": [
    "from langchain_openai.chat_models import ChatOpenAI\n",
    "\n",
    "model = ChatOpenAI(model=\"gpt-4o-mini\", temperature=0.1)"
   ]
  },
  {
   "cell_type": "markdown",
   "metadata": {},
   "source": [
    "## 체인 생성\n\n### lcel (Langchain 표현 언어)\n\n여기서는 LCEN을 사용하여 다양한 구성 요소를 단일 체인으로 결합합니다.\n\n! [lcel.png] (./ 자산/02-langchain-expression-language.png)\n\n```\n체인 = 프롬프트 |모델 |output_parser\n```\n\n```|````기호는 [unix 파이프 연산자] (<https://en.wikipedia.org/wiki/pipeline_ (unix)>)과 유사하게 작동하여 다른 구성 요소를 연결하고 한 구성 요소의 출력을 다음에 입력으로 전달합니다.\n\n이 체인에서는 사용자 입력이 프롬프트 템플릿으로 전달되고 프롬프트 템플릿의 출력이 모델로 전달됩니다.각 구성 요소를 개별적으로 검사하면 각 단계에서 발생하는 일을 이해할 수 있습니다."
   ]
  },
  {
   "cell_type": "code",
   "execution_count": 11,
   "metadata": {},
   "outputs": [],
   "source": [
    "#'PromptTemplate'객체로 프롬프트를 만듭니다.\n",
    "prompt = PromptTemplate.from_template(\"Please explain {topic} in simple terms.\")\n",
    "\n",
    "\n",
    "#프롬프트와 모델을 체인에 결합하십시오\n",
    "chain = prompt | model"
   ]
  },
  {
   "cell_type": "markdown",
   "metadata": {},
   "source": [
    "### 호출```«invoke ()```\n\n- 입력 값은 파이썬 사전 (키 값 쌍) 형태로 제공됩니다.\n-````````````` ''기능을 호출 할 때 이러한 입력 값은 인수로 전달됩니다."
   ]
  },
  {
   "cell_type": "code",
   "execution_count": 12,
   "metadata": {},
   "outputs": [],
   "source": [
    "#'입력'사전에서 주제를 '인공 지능 모델에서 학습의 원리'로 설정하십시오.\n",
    "input = {\"topic\": \"The Principles of Learning in Artificial Intelligence Models\"}"
   ]
  },
  {
   "cell_type": "code",
   "execution_count": 13,
   "metadata": {},
   "outputs": [
    {
     "data": {
      "text/plain": [
       "AIMessage(content='Sure! The principles of learning in artificial intelligence (AI) models can be understood as the basic ideas that guide how these models learn from data. Here are some key principles explained in simple terms:\\n\\n1. **Data is Key**: AI models learn from data. The more relevant and high-quality data they have, the better they can learn and make predictions. Think of it like a student learning from textbooks; the better the books, the more they learn.\\n\\n2. **Patterns and Features**: AI looks for patterns in the data. It identifies important features (characteristics) that help it understand the information. For example, if it’s learning to recognize cats in pictures, it might focus on features like fur texture, ear shape, and eye color.\\n\\n3. **Training and Testing**: AI models go through a training phase where they learn from a set of data. After training, they are tested on new data to see how well they learned. This is like practicing for a test and then taking the actual exam.\\n\\n4. **Feedback Loop**: AI models improve through feedback. When they make mistakes, they learn from those errors to adjust their understanding. This is similar to how a student learns from corrections on their homework.\\n\\n5. **Generalization**: The goal of an AI model is to generalize, meaning it should perform well not just on the data it was trained on, but also on new, unseen data. This is like a student who studies a variety of problems and can solve new ones on the exam.\\n\\n6. **Overfitting and Underfitting**: Overfitting happens when a model learns too much from the training data, including noise and outliers, making it less effective on new data. Underfitting occurs when it doesn’t learn enough. It’s like a student who either memorizes answers without understanding or doesn’t study enough to grasp the concepts.\\n\\n7. **Algorithms**: Different algorithms (methods) are used for learning. Some are better for certain types of data or tasks. Choosing the right algorithm is like picking the best study method for a subject.\\n\\n8. **Continuous Learning**: AI can continue to learn over time as it receives more data. This is similar to lifelong learning, where a person keeps gaining knowledge and skills throughout their life.\\n\\nIn summary, AI models learn from data by identifying patterns, receiving feedback, and adjusting their understanding to perform well on new information. The principles of learning help guide this process to make AI more effective and accurate.', additional_kwargs={'refusal': None}, response_metadata={'token_usage': {'completion_tokens': 507, 'prompt_tokens': 21, 'total_tokens': 528, 'completion_tokens_details': {'accepted_prediction_tokens': 0, 'audio_tokens': 0, 'reasoning_tokens': 0, 'rejected_prediction_tokens': 0}, 'prompt_tokens_details': {'audio_tokens': 0, 'cached_tokens': 0}}, 'model_name': 'gpt-4o-mini-2024-07-18', 'system_fingerprint': 'fp_0aa8d3e20b', 'finish_reason': 'stop', 'logprobs': None}, id='run-c6e9d1b4-7fae-4af5-8217-1456c5b23d24-0', usage_metadata={'input_tokens': 21, 'output_tokens': 507, 'total_tokens': 528, 'input_token_details': {'audio': 0, 'cache_read': 0}, 'output_token_details': {'audio': 0, 'reasoning': 0}})"
      ]
     },
     "execution_count": 13,
     "metadata": {},
     "output_type": "execute_result"
    }
   ],
   "source": [
    "#파이프 (`|`) 연산자를 사용하여 '프롬프트'객체와 '모델'객체를 연결하십시오.\n",
    "#`invoke '메소드를 사용하여'입력 '을 전달하십시오.\n",
    "#AI 모델에서 생성 된 메시지를 반환합니다.\n",
    "chain.invoke(input)"
   ]
  },
  {
   "cell_type": "markdown",
   "metadata": {},
   "source": [
    "아래는 스트리밍 응답을 출력하는 예입니다."
   ]
  },
  {
   "cell_type": "code",
   "execution_count": 14,
   "metadata": {},
   "outputs": [
    {
     "name": "stdout",
     "output_type": "stream",
     "text": [
      "Sure! The Principles of Learning in Artificial Intelligence (AI) Models can be understood as the basic ideas that guide how AI systems learn from data and improve their performance over time. Here are some key principles explained in simple terms:\n",
      "\n",
      "1. **Data is Key**: AI models learn from data. The more quality data they have, the better they can learn. Think of it like a student studying for a test; the more information they have, the better they can do.\n",
      "\n",
      "2. **Learning from Examples**: AI models learn by looking at examples. For instance, if you show an AI many pictures of cats and dogs, it can learn to tell the difference between them. This is similar to how humans learn by observing and practicing.\n",
      "\n",
      "3. **Feedback Loop**: AI models improve through feedback. When they make mistakes, they can adjust their understanding based on the corrections. This is like a teacher giving feedback to a student to help them learn from their errors.\n",
      "\n",
      "4. **Generalization**: AI models aim to generalize from the examples they see. This means they should be able to apply what they've learned to new, unseen data. For example, if an AI learns to recognize cats from specific pictures, it should still recognize a cat it has never seen before.\n",
      "\n",
      "5. **Optimization**: AI models often use optimization techniques to improve their performance. This involves tweaking their internal settings to minimize errors. It’s like fine-tuning a musical instrument to get the best sound.\n",
      "\n",
      "6. **Adaptability**: Good AI models can adapt to new information. If the environment changes or new data comes in, they can adjust their learning accordingly. This is similar to how people learn to adapt to new situations.\n",
      "\n",
      "7. **Scalability**: AI models should be able to handle increasing amounts of data without losing performance. This means they can learn from more examples as they become available, much like how a student can learn more as they read more books.\n",
      "\n",
      "8. **Transfer Learning**: Sometimes, knowledge gained from one task can help with another task. For example, if an AI learns to recognize animals, it might use that knowledge to help recognize different types of objects. This is like how learning to ride a bike can help you learn to ride a motorcycle.\n",
      "\n",
      "9. **Exploration vs. Exploitation**: AI models need to balance exploring new possibilities (trying new things) and exploiting what they already know (using what works well). This is similar to how a person might try new foods while still enjoying their favorite dishes.\n",
      "\n",
      "These principles help guide the development and training of AI models, making them more effective and efficient in learning from data and performing tasks."
     ]
    }
   ],
   "source": [
    "#스트리밍 출력 요청\n",
    "answer = chain.stream(input)\n",
    "\n",
    "#스트리밍 출력\n",
    "for token in answer:\n",
    "    print(token.content, end=\"\", flush=True)"
   ]
  },
  {
   "cell_type": "markdown",
   "metadata": {},
   "source": [
    "### 출력 파서\n\nan ** 출력 파서 **는 AI 모델의 응답을 특정 형식으로 변환하거나 처리하도록 설계된 도구입니다.모델의 출력은 일반적으로 자유 형식 텍스트로 제공되므로 ** 출력 파서 **는 구조화 된 형식으로 변환하거나 필요한 데이터를 추출하는 데 필수적입니다."
   ]
  },
  {
   "cell_type": "code",
   "execution_count": 15,
   "metadata": {},
   "outputs": [],
   "source": [
    "from langchain_core.output_parsers import StrOutputParser\n",
    "\n",
    "output_parser = (\n",
    "    StrOutputParser()\n",
    ")  # Directly returns the model's response as a string without modification."
   ]
  },
  {
   "cell_type": "markdown",
   "metadata": {},
   "source": [
    "출력 파서가 체인에 추가됩니다."
   ]
  },
  {
   "cell_type": "code",
   "execution_count": 16,
   "metadata": {},
   "outputs": [],
   "source": [
    "#프롬프트, 모델 및 출력 파서를 연결하여 처리 체인이 구성됩니다.\n",
    "chain = prompt | model | output_parser"
   ]
  },
  {
   "cell_type": "code",
   "execution_count": 17,
   "metadata": {},
   "outputs": [
    {
     "data": {
      "text/plain": [
       "\"Sure! The Principles of Learning in Artificial Intelligence (AI) Models can be understood as the basic ideas that guide how AI systems learn from data and improve their performance over time. Here are some key principles explained in simple terms:\\n\\n1. **Data is Key**: AI models learn from data. The more relevant and high-quality data they have, the better they can learn. Think of it like a student studying for a test; the more information they have, the better they can prepare.\\n\\n2. **Learning from Examples**: AI models often learn by looking at examples. For instance, if you want to teach an AI to recognize cats in pictures, you show it many pictures of cats and non-cats. The model learns to identify patterns that distinguish cats from other objects.\\n\\n3. **Feedback Loop**: AI models improve through feedback. After making predictions or decisions, they receive feedback on whether they were right or wrong. This feedback helps them adjust and learn from their mistakes, similar to how a coach helps an athlete improve.\\n\\n4. **Generalization**: A good AI model can generalize from the examples it has seen to make predictions about new, unseen data. For example, if it has learned to recognize cats from various pictures, it should be able to identify a new cat picture it hasn't seen before.\\n\\n5. **Overfitting and Underfitting**: These are common problems in AI learning. Overfitting happens when a model learns too much from the training data, including noise and outliers, making it perform poorly on new data. Underfitting occurs when a model is too simple and doesn’t learn enough from the data. The goal is to find a balance where the model learns well without being too specific to the training data.\\n\\n6. **Continuous Learning**: AI models can continue to learn and improve over time. This means they can adapt to new data and changing environments, much like how people keep learning throughout their lives.\\n\\n7. **Algorithms Matter**: The methods or algorithms used to train AI models are crucial. Different algorithms can lead to different learning outcomes, just like different teaching methods can affect how well students learn.\\n\\n8. **Evaluation and Testing**: To know how well an AI model is learning, it needs to be tested on separate data that it hasn’t seen before. This helps to evaluate its performance and ensure it’s not just memorizing the training data.\\n\\nIn summary, the principles of learning in AI models revolve around using data effectively, learning from examples, receiving feedback, generalizing knowledge, avoiding common pitfalls, and continuously improving. These principles help AI systems become more accurate and useful over time.\""
      ]
     },
     "execution_count": 17,
     "metadata": {},
     "output_type": "execute_result"
    }
   ],
   "source": [
    "#체인 객체의 호출 메소드를 사용하여 입력을 전달하십시오.\n",
    "chain.invoke(input)"
   ]
  },
  {
   "cell_type": "code",
   "execution_count": 18,
   "metadata": {},
   "outputs": [
    {
     "name": "stdout",
     "output_type": "stream",
     "text": [
      "Sure! The Principles of Learning in Artificial Intelligence (AI) Models can be understood as the basic ideas that guide how AI systems learn from data and improve their performance over time. Here are some key principles explained in simple terms:\n",
      "\n",
      "1. **Data is Key**: AI models learn from data. The more quality data they have, the better they can learn. Think of it like a student studying for a test; the more information they have, the better they can do.\n",
      "\n",
      "2. **Learning from Examples**: AI models often learn by looking at examples. For instance, if you want an AI to recognize cats in pictures, you show it many pictures of cats and non-cats. Over time, it learns to tell the difference.\n",
      "\n",
      "3. **Feedback Loop**: AI models improve through feedback. When they make mistakes, they can adjust their understanding based on the corrections. This is similar to how a teacher helps a student learn from their errors.\n",
      "\n",
      "4. **Generalization**: A good AI model can apply what it has learned to new, unseen data. For example, if it learns to recognize cats from specific pictures, it should still recognize a cat in a different picture. This ability to generalize is crucial for effective learning.\n",
      "\n",
      "5. **Optimization**: AI models often use algorithms to find the best way to make predictions or decisions. They adjust their internal settings (like tuning a musical instrument) to minimize errors and improve accuracy.\n",
      "\n",
      "6. **Transfer Learning**: Sometimes, AI can use knowledge gained from one task to help with another task. For example, if an AI learns to recognize animals, it might use that knowledge to help recognize different types of animals more easily.\n",
      "\n",
      "7. **Continuous Learning**: AI can keep learning over time. As it gets more data or experiences, it can update its knowledge and improve its performance. This is like how people continue to learn and grow throughout their lives.\n",
      "\n",
      "8. **Exploration vs. Exploitation**: AI models often face a choice between exploring new possibilities (trying new things) and exploiting what they already know (using what works best). Balancing these two is important for effective learning.\n",
      "\n",
      "In summary, the principles of learning in AI models revolve around using data, learning from examples, receiving feedback, generalizing knowledge, optimizing performance, transferring skills, continuously learning, and balancing exploration with exploitation. These principles help AI systems become smarter and more effective over time."
     ]
    }
   ],
   "source": [
    "#스트리밍 출력 요청\n",
    "answer = chain.stream(input)\n",
    "\n",
    "#스트리밍 출력\n",
    "for token in answer:\n",
    "    print(token, end=\"\", flush=True)"
   ]
  },
  {
   "cell_type": "markdown",
   "metadata": {},
   "source": [
    "### 템플릿 적용 및 수정\n\n- 아래의 프롬프트 내용은 테스트 목적으로 필요에 따라 ** 수정 ** 될 수 있습니다.\n-```model_name````````Gesting 테스트를 위해 조정할 수도 있습니다."
   ]
  },
  {
   "cell_type": "code",
   "execution_count": 19,
   "metadata": {},
   "outputs": [],
   "source": [
    "template = \"\"\"\n",
    "You are a seasoned English teacher with 10 years of experience. Please write an English conversation suitable for the given situation.  \n",
    "Refer to the [FORMAT] for the structure.\n",
    "\n",
    "#상황:\n",
    "{question}\n",
    "\n",
    "#체재:\n",
    "- Dialogue in English:\n",
    "- Explanation of the Dialogue: \n",
    "\"\"\"\n",
    "\n",
    "#PromptTemplate을 사용하여 프롬프트를 생성하십시오\n",
    "prompt = PromptTemplate.from_template(template)\n",
    "\n",
    "#Chatopenai 모델을 초기화하십시오.\n",
    "model = ChatOpenAI(model_name=\"gpt-4o-mini\")\n",
    "\n",
    "#문자열 출력 파서를 초기화하십시오.\n",
    "output_parser = StrOutputParser()"
   ]
  },
  {
   "cell_type": "code",
   "execution_count": 20,
   "metadata": {},
   "outputs": [],
   "source": [
    "#체인을 구성하십시오.\n",
    "chain = prompt | model | output_parser"
   ]
  },
  {
   "cell_type": "code",
   "execution_count": 21,
   "metadata": {},
   "outputs": [
    {
     "name": "stdout",
     "output_type": "stream",
     "text": [
      "- Dialogue in English:\n",
      "**Waiter:** Good evening! Welcome to La Bella Italia. How many are in your party?  \n",
      "**Customer:** Just one, please.  \n",
      "**Waiter:** Right this way. Here’s your menu. Can I get you something to drink while you look?  \n",
      "**Customer:** Yes, I’ll have a glass of water, please.  \n",
      "**Waiter:** Sure! Are you ready to order, or do you need more time?  \n",
      "**Customer:** I think I’m ready. I’d like the spaghetti carbonara, please.  \n",
      "**Waiter:** Excellent choice! Would you like any appetizers or desserts with that?  \n",
      "**Customer:** I’ll have a side salad to start, and maybe a slice of tiramisu for dessert.  \n",
      "**Waiter:** Great! I’ll put that order in for you. Anything else I can get you?  \n",
      "**Customer:** No, that’s all for now, thank you.  \n",
      "**Waiter:** You’re welcome! I’ll be back shortly with your order.  \n",
      "\n",
      "- Explanation of the Dialogue: \n",
      "In this conversation, the customer arrives at a restaurant and interacts with the waiter. The waiter greets the customer and asks how many people are dining, establishing a friendly atmosphere. The customer indicates they are alone and is guided to a table. The waiter then offers the menu and suggests getting a drink, showing attentiveness to the customer's needs. The customer requests water, indicating a simple preference, before deciding on their meal. The waiter encourages further orders by suggesting appetizers and desserts, showcasing good customer service. The customer ultimately chooses a main course and additional items, and the waiter confirms the order while maintaining a courteous demeanor. The dialogue highlights common phrases and interactions typical in a restaurant setting, providing a practical example for learners of English.\n"
     ]
    }
   ],
   "source": [
    "#완성 된 체인을 실행하여 응답을 얻습니다.\n",
    "print(chain.invoke({\"question\": \"I want to go to a restaurant and order food.\"}))"
   ]
  },
  {
   "cell_type": "code",
   "execution_count": 22,
   "metadata": {},
   "outputs": [
    {
     "name": "stdout",
     "output_type": "stream",
     "text": [
      "- Dialogue in English:\n",
      "\n",
      "**Customer:** Hi there! Can I get a table for two, please?  \n",
      "\n",
      "**Host:** Sure! Right this way. Here’s your menu.  \n",
      "\n",
      "**Customer:** Thank you! What do you recommend for a starter?  \n",
      "\n",
      "**Host:** Our bruschetta is very popular, and the garlic shrimp is a favorite as well.  \n",
      "\n",
      "**Customer:** Sounds delicious! We'll have the bruschetta to start.  \n",
      "\n",
      "**Host:** Great choice! And for the main course?  \n",
      "\n",
      "**Customer:** I’d like the grilled salmon, please. How about you?  \n",
      "\n",
      "**Friend:** I’ll have the steak, medium rare.  \n",
      "\n",
      "**Host:** Excellent choices! Would you like to add any sides?  \n",
      "\n",
      "**Customer:** Yes, we’ll take a side of roasted vegetables and a Caesar salad.  \n",
      "\n",
      "**Host:** Perfect! I’ll get that order started for you.  \n",
      "\n",
      "**Customer:** Thank you!  \n",
      "\n",
      "**Host:** You’re welcome! Enjoy your meal.  \n",
      "\n",
      "---\n",
      "\n",
      "- Explanation of the Dialogue: \n",
      "\n",
      "In this dialogue, the customer arrives at a restaurant and requests a table for two. The host guides them to their table and hands them the menu. The customer asks for recommendations on starters, indicating they are interested in the menu. After deciding on the bruschetta, the customer moves on to the main course, where they order grilled salmon while their friend opts for steak. The host then inquires about side dishes, and the customer adds roasted vegetables and a Caesar salad, showing an understanding of meal complementing. Finally, the host confirms the order and wishes them an enjoyable meal, completing the dining experience. This dialogue showcases typical restaurant interactions, emphasizing polite communication and decision-making."
     ]
    }
   ],
   "source": [
    "#완성 된 체인을 실행하여 응답을 얻습니다\n",
    "#스트리밍 출력 요청\n",
    "answer = chain.stream({\"question\": \"I want to go to a restaurant and order food.\"})\n",
    "\n",
    "#스트리밍 출력\n",
    "for token in answer:\n",
    "    print(token, end=\"\", flush=True)"
   ]
  },
  {
   "cell_type": "code",
   "execution_count": 23,
   "metadata": {},
   "outputs": [
    {
     "name": "stdout",
     "output_type": "stream",
     "text": [
      "- Dialogue in English:\n",
      "\n",
      "**Customer:** Hi there! I’d like to order a pizza, please.\n",
      "\n",
      "**Pizza Server:** Of course! What size would you like? We have small, medium, large, and extra-large.\n",
      "\n",
      "**Customer:** I’ll take a large, please. \n",
      "\n",
      "**Pizza Server:** Great choice! What type of pizza do you want? We have pepperoni, cheese, veggie, and a few specialty pizzas.\n",
      "\n",
      "**Customer:** I’ll go with pepperoni. Can I add extra cheese?\n",
      "\n",
      "**Pizza Server:** Absolutely! Extra cheese on a large pepperoni pizza. Would you like anything else? \n",
      "\n",
      "**Customer:** Yes, can I also get a side of garlic bread and a two-liter soda?\n",
      "\n",
      "**Pizza Server:** Sure! We have a few soda options. We have cola, diet cola, lemon-lime, and root beer. Which one would you like?\n",
      "\n",
      "**Customer:** I’ll take a cola, please.\n",
      "\n",
      "**Pizza Server:** Great! So that’s one large pepperoni pizza with extra cheese, a side of garlic bread, and a cola. Would you like to add any dipping sauces?\n",
      "\n",
      "**Customer:** Yes, please! Can I get a marinara sauce and a ranch dressing?\n",
      "\n",
      "**Pizza Server:** Absolutely! Your total comes to $25.99. How would you like to pay?\n",
      "\n",
      "**Customer:** I’ll pay with my credit card.\n",
      "\n",
      "**Pizza Server:** Perfect! I’ll take that and have your order ready in about 30 minutes.\n",
      "\n",
      "**Customer:** Thank you! I appreciate it.\n",
      "\n",
      "**Pizza Server:** You’re welcome! Enjoy your meal!\n",
      "\n",
      "---\n",
      "\n",
      "- Explanation of the Dialogue: \n",
      "\n",
      "This dialogue captures a typical conversation when ordering pizza in the US. It begins with the customer greeting the server and expressing their intention to place an order. The server asks about the size of the pizza, which is a common initial query. The customer specifies they want a large pepperoni pizza and adds a request for extra cheese, demonstrating how customers can customize their orders.\n",
      "\n",
      "The server continues by offering additional items, like garlic bread and soda, which reflects the common practice of upselling in food service. The server also provides options for the soda, showcasing the variety available. The customer selects their preferences and further adds dipping sauces, which is a popular choice when ordering pizza.\n",
      "\n",
      "Finally, the server confirms the order and provides the total cost, with the customer choosing to pay by credit card, a common payment method. The exchange ends on a polite note, with both parties expressing gratitude, which is typical in customer service interactions. This dialogue is a practical example of everyday communication in a restaurant setting, highlighting key phrases and vocabulary related to food ordering."
     ]
    }
   ],
   "source": [
    "#이번에는 '미국의 피자 주문'에 대한 질문을 설정하고 실행하십시오.\n",
    "#스트리밍 출력 요청\n",
    "answer = chain.stream({\"question\": \"Ordering Pizza in the US\"})\n",
    "\n",
    "#스트리밍 출력\n",
    "for token in answer:\n",
    "    print(token, end=\"\", flush=True)"
   ]
  }
 ],
 "metadata": {
  "kernelspec": {
   "display_name": "langchain-opentutorial-i-KKkGhc-py3.11",
   "language": "python",
   "name": "python3"
  },
  "language_info": {
   "codemirror_mode": {
    "name": "ipython",
    "version": 3
   },
   "file_extension": ".py",
   "mimetype": "text/x-python",
   "name": "python",
   "nbconvert_exporter": "python",
   "pygments_lexer": "ipython3",
   "version": "3.11.11"
  }
 },
 "nbformat": 4,
 "nbformat_minor": 2
}